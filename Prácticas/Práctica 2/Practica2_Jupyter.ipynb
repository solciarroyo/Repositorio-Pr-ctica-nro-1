{
 "cells": [
  {
   "cell_type": "markdown",
   "metadata": {},
   "source": [
    "# Práctica 2 de Seminario de Python"
   ]
  },
  {
   "cell_type": "markdown",
   "metadata": {},
   "source": [
    "#### 1)  Tomando el texto del README.md de numpy, copiar y pegar el texto en una variable,\n",
    "#### luego imprima todas las líneas cuya segunda palabra comience con una vocal (A, E, I,\n",
    "#### O, U, a, e, i, o, u)"
   ]
  },
  {
   "cell_type": "code",
   "execution_count": 3,
   "metadata": {},
   "outputs": [
    {
     "name": "stdout",
     "output_type": "stream",
     "text": [
      "numpy is the fundamental package for scientific computing with python.\n",
      "report a security vulnerability: https://tidelift.com/docs/security\n",
      "code of conduct\n",
      "numpy is a community-driven open source project developed by a diverse group of contributors. the numpy leadership has made a strong commitment to creating an open, inclusive, and positive community. please read the numpy code of conduct for guidance on how to interact with others in a way that makes our community thrive.\n",
      "small improvements or fixes are always appreciated. if you are considering larger contributions to the source code, please contact us through the mailing list first.\n",
      "help us stay on top of new and old issues\n",
      "maintain and improve our website\n",
      "we also have a biweekly community call, details of which are announced on the mailing list. you are very welcome to join.\n"
     ]
    }
   ],
   "source": [
    "text = \"\"\"NumPy is the fundamental package for scientific computing with Python.\n",
    "Website: https://www.numpy.org\n",
    "Documentation: https://numpy.org/doc\n",
    "Mailing list: https://mail.python.org/mailman/listinfo/numpy-discussion\n",
    "Source code: https://github.com/numpy/numpy\n",
    "Contributing: https://www.numpy.org/devdocs/dev/index.html\n",
    "Bug reports: https://github.com/numpy/numpy/issues\n",
    "Report a security vulnerability: https://tidelift.com/docs/security\n",
    "It provides:\n",
    "a powerful N-dimensional array object\n",
    "sophisticated (broadcasting) functions\n",
    "tools for integrating C/C++ and Fortran code\n",
    "useful linear algebra, Fourier transform, and random number capabilities\n",
    "Testing:\n",
    "NumPy requires pytest and hypothesis. Tests can then be run after installation with:\n",
    "python -c \"import numpy, sys; sys.exit(numpy.test() is False)\"\n",
    "Code of Conduct\n",
    "NumPy is a community-driven open source project developed by a diverse group of contributors. The NumPy leadership has made a strong commitment to creating an open, inclusive, and positive community. Please read the NumPy Code of Conduct for guidance on how to interact with others in a way that makes our community thrive.\n",
    "Call for Contributions\n",
    "The NumPy project welcomes your expertise and enthusiasm!\n",
    "Small improvements or fixes are always appreciated. If you are considering larger contributions to the source code, please contact us through the mailing list first.\n",
    "Writing code isn’t the only way to contribute to NumPy. You can also:\n",
    "review pull requests\n",
    "help us stay on top of new and old issues\n",
    "develop tutorials, presentations, and other educational materials\n",
    "maintain and improve our website\n",
    "develop graphic design for our brand assets and promotional materials\n",
    "translate website content\n",
    "help with outreach and onboard new contributors\n",
    "write grant proposals and help with other fundraising efforts\n",
    "For more information about the ways you can contribute to NumPy, visit our website. If you’re unsure where to start or how your skills fit in, reach out! You can ask on the mailing list or here, on GitHub, by opening a new issue or leaving a comment on a relevant issue that is already open.\n",
    "Our preferred channels of communication are all public, but if you’d like to speak to us in private first, contact our community coordinators at numpy-team@googlegroups.com or on Slack (write numpy-team@googlegroups.com for an invitation).\n",
    "We also have a biweekly community call, details of which are announced on the mailing list. You are very welcome to join.\n",
    "If you are new to contributing to open source, this guide helps explain why, what, and how to successfully get involved.\"\"\"\n",
    "\n",
    "vowels = ('a','e','i','o','u')\n",
    "text = text.lower()\n",
    "list = text.split('\\n')\n",
    "\n",
    "for sentence in list:\n",
    "    word_list = sentence.split(' ')\n",
    "    if len(word_list) >= 2:\n",
    "        if word_list[1][0] in vowels: \n",
    "            phrase = ' '.join(word_list)\n",
    "            print(phrase)"
   ]
  },
  {
   "cell_type": "markdown",
   "metadata": {},
   "source": [
    "#### 2) Indique la palabra con más de 4 caracteres que aparece mayor cantidad de veces en\n",
    "#### el texto del README.md de numpy. Copie y pegue el texto en una variable. "
   ]
  },
  {
   "cell_type": "code",
   "execution_count": 4,
   "metadata": {},
   "outputs": [
    {
     "name": "stdout",
     "output_type": "stream",
     "text": [
      "La palabra que mas veces aparece es: numpy y aparece 4 veces\n"
     ]
    }
   ],
   "source": [
    "list = text.split(\" \")\n",
    "new_list = []\n",
    "for word in list:\n",
    "    if len(word) >= 4:\n",
    "        new_list.append(word)\n",
    "\n",
    "max = -1\n",
    "max_word = \"\"\n",
    "for word in new_list:\n",
    "    if new_list.count(word) > max:\n",
    "        max = new_list.count(word)\n",
    "        max_word = word\n",
    "print(f\"La palabra que mas veces aparece es: {max_word} y aparece {max} veces\")"
   ]
  },
  {
   "cell_type": "markdown",
   "metadata": {},
   "source": [
    "##### Otra forma:"
   ]
  },
  {
   "cell_type": "code",
   "execution_count": 7,
   "metadata": {},
   "outputs": [
    {
     "name": "stdout",
     "output_type": "stream",
     "text": [
      "La palabra mas comun es: numpy y aparece 4 veces\n"
     ]
    }
   ],
   "source": [
    "from collections import Counter\n",
    "\n",
    "def palabra_mas_comun(new_list):\n",
    "    contador = Counter(new_list)\n",
    "    palabra_mas_comun = contador.most_common(1)\n",
    "    return palabra_mas_comun\n",
    "\n",
    "palabra = palabra_mas_comun(new_list)\n",
    "print(f\"La palabra mas comun es: {palabra[0][0]} y aparece {palabra[0][1]} veces\")\n"
   ]
  },
  {
   "cell_type": "markdown",
   "metadata": {},
   "source": [
    "#### 3) Dado el siguiente texto guardado en la varible jupyter_info, solicite por teclado una\n",
    "#### letra e imprima las palabras que contengan dicha letra. En caso que no se haya\n",
    "#### ingresado un letra, indique el error. Ver: módulo string"
   ]
  },
  {
   "cell_type": "markdown",
   "metadata": {},
   "source": [
    "jupyter_info = \"\"\" JupyterLab is a web-based interactive development\n",
    "environment for Jupyter notebooks, code, and data. JupyterLab is\n",
    "flexible: configure and arrange the user interface to support a wide\n",
    "range of workflows in data science, scientific computing, and machine\n",
    "learning. JupyterLab is extensible and modular: write plugins that add\n",
    "new components and integrate with existing ones. \"\"\"\n"
   ]
  },
  {
   "cell_type": "code",
   "execution_count": 10,
   "metadata": {},
   "outputs": [
    {
     "name": "stdout",
     "output_type": "stream",
     "text": [
      "JupyterLab\n",
      "web-based\n",
      "notebooks\n",
      "JupyterLab\n",
      "flexible\n",
      "JupyterLab\n",
      "extensible\n"
     ]
    }
   ],
   "source": [
    "jupyter_info = \"\"\"JupyterLab is a web-based interactive development\n",
    "environment for Jupyter notebooks, code, and data. JupyterLab is\n",
    "flexible: configure and arrange the user interface to support a wide\n",
    "range of workflows in data science, scientific computing, and machine\n",
    "learning. JupyterLab is extensible and modular: write plugins that add\n",
    "new components and integrate with existing ones.\"\"\"\n",
    "\n",
    "import string\n",
    "\n",
    "# ingresar la letra\n",
    "user_input = input(\"Enter a letter: \") \n",
    "\n",
    "# Verificar si la entrada es una sola letra y si es letra y no otro char\n",
    "if (len(user_input) == 1 and user_input in string.ascii_letters):\n",
    "\n",
    "    # Convertir la entrada a minúscula \n",
    "    user_input = user_input.lower()\n",
    "    # Dividir el texto en palabras\n",
    "    words = jupyter_info.split()\n",
    "\n",
    "    # Crear una lista para las palabras que contengan la letra\n",
    "    matching_words = []\n",
    "    # Recorremos las palabras del texto para ver si tienen la letra\n",
    "    for word in words:\n",
    "        # Convertimos la palabra en minusculas\n",
    "        lowercase_word = word.lower()\n",
    "        # Chequear si esta la letra\n",
    "        if user_input in lowercase_word:\n",
    "            # Eliminamos cualquier signo de puntuación alrededor de la palabra\n",
    "            word_without_punctuation = word.strip(string.punctuation)\n",
    "            # Agregamos la palabra coincidente a la lista de palabras coincidentes\n",
    "            matching_words.append(word_without_punctuation)\n",
    "\n",
    "    # Imprimimos las palabras que coinciden\n",
    "    for word in matching_words:\n",
    "        print(word)\n",
    "else:\n",
    "    print(\"Error: Please enter a single letter.\")"
   ]
  },
  {
   "cell_type": "markdown",
   "metadata": {},
   "source": [
    "#### 4)  Dado el siguiente código que informa si la letra a se encuentra en una palabra\n",
    "#### ingresada por teclado:"
   ]
  },
  {
   "cell_type": "code",
   "execution_count": 11,
   "metadata": {},
   "outputs": [
    {
     "name": "stdout",
     "output_type": "stream",
     "text": [
      "No hay letras a. \n"
     ]
    }
   ],
   "source": [
    "word = input(\"Ingresá una palabra: \")\n",
    "if \"a\" in word:\n",
    "    print(\"Hay al menos una letra a.\")\n",
    "else:\n",
    "    print(\"No hay letras a. \")"
   ]
  },
  {
   "cell_type": "markdown",
   "metadata": {},
   "source": [
    "#### Si ahora queremos saber si contiene la letra a y también la letra n, ¿cómo lo\n",
    "#### modificamos?"
   ]
  },
  {
   "cell_type": "code",
   "execution_count": 12,
   "metadata": {},
   "outputs": [
    {
     "name": "stdout",
     "output_type": "stream",
     "text": [
      "No hay letras a. \n",
      "Hay al menos una letra n.\n"
     ]
    }
   ],
   "source": [
    "word = input(\"Ingresá una palabra: \")\n",
    "if \"a\" in word:\n",
    "    print(\"Hay al menos una letra a.\")\n",
    "else:\n",
    "    print(\"No hay letras a. \")\n",
    "if \"n\" in word:\n",
    "    print(\"Hay al menos una letra n.\")\n",
    "else:\n",
    "    print(\"No hay letras n. \")"
   ]
  },
  {
   "cell_type": "markdown",
   "metadata": {},
   "source": [
    "#### 5) Para la aceptación de un artículo en un congreso se definen las siguientes\n",
    "#### especificaciones que deben cumplir y recomendaciones de escritura:\n"
   ]
  },
  {
   "cell_type": "markdown",
   "metadata": {},
   "source": [
    "título:\n",
    "    10 palabras como máximo\n",
    "cada oración del resumen:\n",
    "    hasta 12 palabras: fácil de leer\n",
    "    entre 13-17 palabras: aceptable para leer\n",
    "    entre 18-25 palabras: difícil de leer\n",
    "    mas de 25 palabras: muy difícil\n",
    "\n",
    "Es importante destacar que los números no se consideran palabras al momento del\n",
    "análisis por su facilidad de lectura.\n",
    "\n",
    "Dado un artículo en formato string, defina si cumple las especificaciones del título y\n",
    "cuántas oraciones tiene de cada categoría. \n"
   ]
  },
  {
   "cell_type": "code",
   "execution_count": 11,
   "metadata": {},
   "outputs": [
    {
     "name": "stdout",
     "output_type": "stream",
     "text": [
      "Título: not ok\n",
      "Cantidad de oraciones fáciles de leer: 1\n",
      "Cantidad de oraciones aceptables para leer: 2\n",
      "Cantidad de oraciones difíciles de leer: 1\n",
      "Cantidad de oraciones muy difíciles de leer: 2\n"
     ]
    }
   ],
   "source": [
    "article = \"\"\" título: Experiences in Developing a Distributed Agentbased Modeling Toolkit with Python Version 3\n",
    "resumen: Distributed agent-based modeling (ABM) on high-performance\n",
    "computing resources provides the promise of capturing unprecedented\n",
    "details of large-scale complex systems. However, the specialized\n",
    "knowledge required for developing such ABMs creates barriers to wider\n",
    "adoption and utilization. Here we present our experiences in\n",
    "developing an initial implementation of Repast4Py, a Python-based\n",
    "distributed ABM toolkit. We build on our experiences in developing ABM\n",
    "toolkits, including Repast for High Performance Computing (Repast\n",
    "HPC), to identify the key elements of a useful distributed ABM\n",
    "toolkit. We leverage the Numba, NumPy, and PyTorch packages and the\n",
    "En este ejemplo se debe informar:\n",
    "Python C-API to create a scalable modeling system that can exploit the\n",
    "largest HPC resources and emerging computing architectures. \"\"\"\n",
    "\n",
    "def contar_palabras(texto):\n",
    "    palabras = texto.split()\n",
    "    return len(palabras)\n",
    "\n",
    "def categorizar_oraciones(resumen):\n",
    "    facil = 0\n",
    "    aceptable = 0\n",
    "    dificil = 0\n",
    "    muy_dificil = 0\n",
    "    \n",
    "    oraciones = resumen.split('.')\n",
    "    for oracion in oraciones:\n",
    "        palabras = oracion.split()\n",
    "        cantidad = len(palabras)\n",
    "        if cantidad <= 12:\n",
    "            facil += 1\n",
    "        elif 13 <= cantidad <= 17:\n",
    "            aceptable += 1\n",
    "        elif 18 <= cantidad <= 25:\n",
    "            dificil += 1\n",
    "        else:\n",
    "            muy_dificil += 1\n",
    "    \n",
    "    return facil, aceptable, dificil, muy_dificil\n",
    "\n",
    "titulo_index = article.find(\"título:\") + len(\"título:\")\n",
    "titulo_end_index = article.find(\"resumen:\")\n",
    "titulo = article[titulo_index:titulo_end_index].strip()\n",
    "\n",
    "resumen_index = article.find(\"resumen:\") + len(\"resumen:\")\n",
    "resumen = article[resumen_index:].strip()\n",
    "\n",
    "cantidad_palabras_titulo = contar_palabras(titulo)\n",
    "facil, aceptable, dificil, muy_dificil = categorizar_oraciones(resumen)\n",
    "\n",
    "print(f\"Título: {'ok' if cantidad_palabras_titulo <= 10 else 'not ok'}\")\n",
    "print(f\"Cantidad de oraciones fáciles de leer: {facil}\")\n",
    "print(f\"Cantidad de oraciones aceptables para leer: {aceptable}\")\n",
    "print(f\"Cantidad de oraciones difíciles de leer: {dificil}\")\n",
    "print(f\"Cantidad de oraciones muy difíciles de leer: {muy_dificil}\")\n",
    "\n"
   ]
  }
 ],
 "metadata": {
  "kernelspec": {
   "display_name": "Python 3",
   "language": "python",
   "name": "python3"
  },
  "language_info": {
   "codemirror_mode": {
    "name": "ipython",
    "version": 3
   },
   "file_extension": ".py",
   "mimetype": "text/x-python",
   "name": "python",
   "nbconvert_exporter": "python",
   "pygments_lexer": "ipython3",
   "version": "3.11.7"
  }
 },
 "nbformat": 4,
 "nbformat_minor": 2
}

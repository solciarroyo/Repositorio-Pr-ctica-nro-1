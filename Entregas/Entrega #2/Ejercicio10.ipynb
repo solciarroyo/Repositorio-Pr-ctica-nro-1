{
 "cells": [
  {
   "cell_type": "markdown",
   "metadata": {},
   "source": [
    "## **ENTREGA:**\n",
    "### Ejercicio 10, Práctica 02"
   ]
  },
  {
   "cell_type": "markdown",
   "metadata": {},
   "source": [
    "10. Un club de hockey posee las estadísticas de todxs sus jugadorxs de la última\n",
    " temporada jugada del torneo de hockey mixto. Poseen una lista con los nombres, otra\n",
    "con los goles a favor, otra con los goles evitados y la última con las asistencias\n",
    " realizadas. El club está por otorgar los premios de cierre de temporada y necesita:\n",
    "    1. Generar una estructura todas las estadísticas asociadas a cada jugador o\n",
    " jugadora.\n",
    "    2. Conocer el nombre y la cantidad de goles del goleador o goleadora.\n",
    "    3. Conocer el nombre del jugador o jugadora más influyente, esto se consigue\n",
    " sumando goles a favor, goles evitados y cantidad de asistencias. La particularidad\n",
    " es que los goles a favor, evitados y las asistencias NO valen lo mismo (es un\n",
    " promedio ponderado)\n",
    "    4. Conocer el promedio de goles por partido del equipo en general. Dato: Se jugaron\n",
    " 25 partidos en la temporada.\n",
    "    5. Conocer el promedio de goles por partido del goleador o goleadora. Dato: Se\n",
    " jugaron 25 partidos en la temporada."
   ]
  },
  {
   "cell_type": "code",
   "execution_count": 50,
   "metadata": {},
   "outputs": [],
   "source": [
    "names = \"\"\" Agustin, Yanina, Andrés, Ariadna, Bautista, CAROLINA, \n",
    "CESAR, David, Diego, Dolores, DYLAN, ELIANA, Emanuel, Fabián, Noelia, \n",
    "Francsica', FEDERICO, Fernanda, GONZALO, Nancy \"\"\"\n",
    "goals = [0, 10, 4, 0, 5, 14, 0, 0, 7, 2, 1, 1, 1, 5, 6, 1, 1, 2, 0, \n",
    "11]\n",
    "goals_avoided = [0, 2, 0, 0, 5, 2, 0, 0, 1, 2, 0, 5, 5, 0, 1, 0, 2, \n",
    "3, 0, 0]\n",
    "assists = [0, 5, 1, 0, 5, 2, 0, 0, 1, 2, 1, 5, 5, 0, 1, 0, 2, 3, 1, \n",
    "0] "
   ]
  },
  {
   "cell_type": "markdown",
   "metadata": {},
   "source": [
    "1. Los datos van a ser almacenados en un diccionario donde las claves son los nombres.\n",
    "Para ello tenemos un modulo que debemos importar."
   ]
  },
  {
   "cell_type": "code",
   "execution_count": 51,
   "metadata": {},
   "outputs": [],
   "source": [
    "from estadisticas_hockey import calcular_estadisticas\n",
    "estadisticas = calcular_estadisticas(names, goals, goals_avoided, assists)"
   ]
  },
  {
   "cell_type": "markdown",
   "metadata": {},
   "source": [
    "2. Conocer el nombre y la cantidad de goles del goleador o goleadora.\n",
    "Para saber la jugadora o el jugador con mayor cantidad de goles podemos iterar sobre el diccionario."
   ]
  },
  {
   "cell_type": "markdown",
   "metadata": {},
   "source": [
    "*Voy a inicializar las variables con las que quiero trabajar:*"
   ]
  },
  {
   "cell_type": "code",
   "execution_count": 52,
   "metadata": {},
   "outputs": [],
   "source": [
    "goleador = \"\"\n",
    "max_goles = -1"
   ]
  },
  {
   "cell_type": "markdown",
   "metadata": {},
   "source": [
    "*Con la siguiente funcion, mediante la iteracion sobre el diccionario, podemos calcular quien es el goleador o goleadora:*"
   ]
  },
  {
   "cell_type": "code",
   "execution_count": 53,
   "metadata": {},
   "outputs": [],
   "source": [
    "def calcular_goleador (max_goles, goleador):\n",
    "    for nombre, estadistica in estadisticas.items():\n",
    "        goles = estadistica[0]\n",
    "        if goles > max_goles:\n",
    "            max_goles = goles\n",
    "            goleador = nombre\n",
    "    return goleador, max_goles\n"
   ]
  },
  {
   "cell_type": "markdown",
   "metadata": {},
   "source": [
    "*Invocamos la funcion e imprimimos:*"
   ]
  },
  {
   "cell_type": "code",
   "execution_count": 54,
   "metadata": {},
   "outputs": [
    {
     "name": "stdout",
     "output_type": "stream",
     "text": [
      "Goleador/a: CAROLINA, Goles: 14\n"
     ]
    }
   ],
   "source": [
    "goleador, max_goles = calcular_goleador(max_goles,goleador)\n",
    "print(f\"Goleador/a: {goleador}, Goles: {max_goles}\")"
   ]
  },
  {
   "cell_type": "markdown",
   "metadata": {},
   "source": [
    "3. Queremos conocer al jugador o jugadora mas influyente. Primero hay que calcular el puntaje a traves del promedio ponderado."
   ]
  },
  {
   "cell_type": "markdown",
   "metadata": {},
   "source": [
    "*Inicializo variables:*"
   ]
  },
  {
   "cell_type": "code",
   "execution_count": 55,
   "metadata": {},
   "outputs": [],
   "source": [
    "influyente = ''\n",
    "max_puntaje = -1"
   ]
  },
  {
   "cell_type": "markdown",
   "metadata": {},
   "source": [
    "*Ahora podemos encontrar el mayor puntaje usando lambda:*"
   ]
  },
  {
   "cell_type": "code",
   "execution_count": 56,
   "metadata": {},
   "outputs": [],
   "source": [
    "def calcular_influyente (influyente,max_puntaje):\n",
    "    influyente, max_puntaje = max(estadisticas.items(), key=lambda jugador: \n",
    "    (jugador[1][0] * 1.5) + (jugador[1][1] * 1.25) + (jugador[1][2]))\n",
    "    return influyente, max_puntaje"
   ]
  },
  {
   "cell_type": "markdown",
   "metadata": {},
   "source": [
    "*Ahora hacemos uso de la funcion creada e imprimimos el resultado:*"
   ]
  },
  {
   "cell_type": "code",
   "execution_count": 57,
   "metadata": {},
   "outputs": [
    {
     "name": "stdout",
     "output_type": "stream",
     "text": [
      "Jugador/a mas influyente: CAROLINA\n"
     ]
    }
   ],
   "source": [
    "influyente, max_puntaje = calcular_influyente(influyente,max_puntaje)\n",
    "\n",
    "print(f\"Jugador/a mas influyente: {influyente}\")"
   ]
  },
  {
   "cell_type": "markdown",
   "metadata": {},
   "source": [
    "4. Conocer el promedio de goles por partido del equipo en general. "
   ]
  },
  {
   "cell_type": "markdown",
   "metadata": {},
   "source": [
    "*Para esto hice una funcion que recorre la lista de goles del equipo llamada 'goals', por cada gol suma 1*"
   ]
  },
  {
   "cell_type": "code",
   "execution_count": 70,
   "metadata": {},
   "outputs": [],
   "source": [
    "def promedio_goles (goals, partidos):\n",
    "    total = 0\n",
    "    for goal in goals:\n",
    "        total += 1\n",
    "    promedio = total / partidos\n",
    "    return promedio"
   ]
  },
  {
   "cell_type": "markdown",
   "metadata": {},
   "source": [
    "*Ahora la vamos a invocar:*"
   ]
  },
  {
   "cell_type": "code",
   "execution_count": 68,
   "metadata": {},
   "outputs": [
    {
     "name": "stdout",
     "output_type": "stream",
     "text": [
      "El promedio de goles por partido es de 0.8 goles\n"
     ]
    }
   ],
   "source": [
    "promedio = promedio_goles(goals,25)\n",
    "\n",
    "print(f\"El promedio de goles por partido es de {promedio} goles\")"
   ]
  },
  {
   "cell_type": "markdown",
   "metadata": {},
   "source": [
    "5. Conocer el promedio de goles por partido del goleador o goleadora. "
   ]
  },
  {
   "cell_type": "markdown",
   "metadata": {},
   "source": [
    "*La siguiente funcion recorre el diccionario, calcula el promedio de goles del goleador y lo retorna:*"
   ]
  },
  {
   "cell_type": "code",
   "execution_count": 64,
   "metadata": {},
   "outputs": [],
   "source": [
    "def goles_goleador(estadisticas, goleador, partidos):\n",
    "    total = estadisticas[goleador][0]\n",
    "    promedio_goleador = total / partidos\n",
    "    return promedio_goleador\n"
   ]
  },
  {
   "cell_type": "markdown",
   "metadata": {},
   "source": [
    "*Invocamos a la funcion e imprimimos el resultado:*"
   ]
  },
  {
   "cell_type": "code",
   "execution_count": 66,
   "metadata": {},
   "outputs": [
    {
     "name": "stdout",
     "output_type": "stream",
     "text": [
      "El promedio del/a goleador/a: CAROLINA es de 0.56 goles por partido\n"
     ]
    }
   ],
   "source": [
    "estadisticas_goleador = estadisticas[goleador][0]\n",
    "promedio_goleador = goles_goleador(estadisticas, goleador,25)\n",
    "\n",
    "print(f\"El promedio del/a goleador/a: {goleador} es de {promedio_goleador} goles por partido\")"
   ]
  },
  {
   "cell_type": "markdown",
   "metadata": {},
   "source": [
    "### Con esto ya podemos decir que hemos terminado la realizacion del ejercicio 10 de la practica 2 de Python.\n",
    "### Muchas gracias por leer :)"
   ]
  }
 ],
 "metadata": {
  "kernelspec": {
   "display_name": "Python 3",
   "language": "python",
   "name": "python3"
  },
  "language_info": {
   "codemirror_mode": {
    "name": "ipython",
    "version": 3
   },
   "file_extension": ".py",
   "mimetype": "text/x-python",
   "name": "python",
   "nbconvert_exporter": "python",
   "pygments_lexer": "ipython3",
   "version": "3.11.7"
  }
 },
 "nbformat": 4,
 "nbformat_minor": 2
}
